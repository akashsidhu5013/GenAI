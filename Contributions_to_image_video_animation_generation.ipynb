{
  "cells": [
    {
      "cell_type": "markdown",
      "metadata": {
        "id": "view-in-github",
        "colab_type": "text"
      },
      "source": [
        "<a href=\"https://colab.research.google.com/github/akashsidhu5013/GenAI/blob/main/Contributions_to_image_video_animation_generation.ipynb\" target=\"_parent\"><img src=\"https://colab.research.google.com/assets/colab-badge.svg\" alt=\"Open In Colab\"/></a>"
      ]
    },
    {
      "cell_type": "markdown",
      "source": [
        "# **Title of the Project : Generative AI for Image and GIF using Replicate**\n",
        "\n",
        "\n",
        "## Brief Description of the scope\n",
        "\n",
        "Creating an innovative generative AI project utilizing Replicate and advanced AI technology. This plagiarism-free endeavor aims to produce unique and diverse content through intelligent algorithms, pushing the boundaries of creative automation.\n",
        "\n"
      ],
      "metadata": {
        "id": "M49lstKso4R4"
      }
    },
    {
      "cell_type": "markdown",
      "source": [
        "\n",
        "# Group Members\n",
        "\n",
        "* Akashdeep Singh\n",
        "\n",
        "\n",
        "    Student ID : 4349718"
      ],
      "metadata": {
        "id": "BrLCsrnx40LZ"
      }
    },
    {
      "cell_type": "markdown",
      "source": [
        "# Detailed Project Description\n",
        "\n",
        "\n",
        "* Embarking on an inventive journey, this project harnesses the power of Replicate and cutting-edge AI.\n",
        "* Our mission is to develop a generative AI system that produces original, diverse content.\n",
        "* By avoiding plagiarism, we prioritize creativity, pushing the boundaries of intelligent automation to redefine the landscape of content generation and innovation.\n",
        "\n",
        "## Objectives\n",
        "\n",
        "1. Primary objectives of this generative AI project using Replicate and advanced AI technologies are to pioneer novel content creation methods, ensuring originality and diversity.\n",
        "2. By leveraging Replicate's capabilities, we aim to surpass existing boundaries in generative AI.\n",
        "3.  The project focuses on fostering creativity while maintaining a commitment to plagiarism-free output.\n",
        "4. Additionally, our goals include advancing the understanding of AI-driven content generation, exploring innovative applications, and contributing to the evolution of intelligent systems that redefine the landscape of automated creativity in a responsible and ethically sound manner.\n",
        "\n",
        "## Expected Outcomes\n",
        "1. Anticipated outcomes for the Generative AI for Image and GIF project on Colab include the development of a robust model capable of generating diverse and high-quality visual content.\n",
        "2. The user-friendly interface and adaptive style transfer features are expected to enhance customization and creative expression.\n",
        "3.  The implementation of an evaluation framework ensures the reliability of results.\n",
        "4.  Successful project completion will yield a powerful tool for personalized content creation, with potential applications in art, design, and multimedia, enriching user experiences in digital media production.\n"
      ],
      "metadata": {
        "id": "qufO2TVE4leR"
      }
    },
    {
      "cell_type": "markdown",
      "source": [
        "# Modification/New Addition Specification\n",
        "\n",
        "Innovative enhancements include refining Replicate's algorithms for increased creativity and diversity. We introduce adaptive learning mechanisms to enhance content generation.\n",
        "\n",
        " These modifications aim to elevate the generative AI's capabilities, ensuring uniqueness and superior performance in crafting original and compelling outputs.\n",
        "\n",
        "## Justification\n",
        "* These modifications are crucial for the generative AI build using Replicate and AI, as they amplify creativity and diversity, enriching the output.\n",
        "* Adaptive learning mechanisms ensure continuous improvement, vital for staying at the forefront of innovative content generation in dynamic and evolving landscapes."
      ],
      "metadata": {
        "id": "UW7kufag4o5Q"
      }
    },
    {
      "cell_type": "markdown",
      "source": [
        "# Criteria-Specific Details\n",
        "\n",
        "## Generative AI\n",
        "**Relevance and application**\n",
        "* The modifications in this generative AI build using Replicate and AI hold immense relevance as they empower diverse applications.\n",
        "* From creative content generation for media to dynamic data synthesis, these enhancements ensure adaptability and effectiveness, unlocking new possibilities for automated, intelligent systems across various domains.\n",
        "* The refined generative AI, leveraging Replicate and AI advancements, finds relevance in industries demanding dynamic content creation, data synthesis, and adaptive automation, fostering innovation and efficiency.\n",
        "\n",
        "**Innovation and technical proficiency**\n",
        "\n",
        "1. This project showcases innovation through advanced Generative AI techniques on Google Colab. Leveraging cutting-edge algorithms, such as GANs or VAEs, demonstrates technical proficiency.\n",
        "2. The integration of a user-friendly interface, adaptive style transfer, and an evaluation framework underscores the project's commitment to technological excellence, providing a platform that combines creativity with robust, reliable performance in image and GIF generation.\n",
        "---\n"
      ],
      "metadata": {
        "id": "uZs-sE6j4sju"
      }
    },
    {
      "cell_type": "markdown",
      "source": [
        "\n",
        "\n",
        "---\n",
        "\n"
      ],
      "metadata": {
        "id": "YRa9GH5gWwbr"
      }
    },
    {
      "cell_type": "markdown",
      "source": [
        "##1.This cell uses the pip package manager to install the replicate library. Using the Replicate platform to run models and create content requires the library."
      ],
      "metadata": {
        "id": "03xL0Alon2h6"
      }
    },
    {
      "cell_type": "code",
      "execution_count": null,
      "metadata": {
        "colab": {
          "base_uri": "https://localhost:8080/"
        },
        "id": "K-f4rzIDbk8n",
        "outputId": "cf105c25-b09b-476e-cb12-671ef0ed801a"
      },
      "outputs": [
        {
          "output_type": "stream",
          "name": "stdout",
          "text": [
            "Collecting replicate\n",
            "  Downloading replicate-0.21.0-py3-none-any.whl (34 kB)\n",
            "Collecting httpx<1,>=0.21.0 (from replicate)\n",
            "  Downloading httpx-0.25.2-py3-none-any.whl (74 kB)\n",
            "\u001b[2K     \u001b[90m━━━━━━━━━━━━━━━━━━━━━━━━━━━━━━━━━━━━━━━━\u001b[0m \u001b[32m75.0/75.0 kB\u001b[0m \u001b[31m3.5 MB/s\u001b[0m eta \u001b[36m0:00:00\u001b[0m\n",
            "\u001b[?25hRequirement already satisfied: packaging in /usr/local/lib/python3.10/dist-packages (from replicate) (23.2)\n",
            "Requirement already satisfied: pydantic>1 in /usr/local/lib/python3.10/dist-packages (from replicate) (1.10.13)\n",
            "Requirement already satisfied: typing-extensions>=4.5.0 in /usr/local/lib/python3.10/dist-packages (from replicate) (4.5.0)\n",
            "Requirement already satisfied: anyio in /usr/local/lib/python3.10/dist-packages (from httpx<1,>=0.21.0->replicate) (3.7.1)\n",
            "Requirement already satisfied: certifi in /usr/local/lib/python3.10/dist-packages (from httpx<1,>=0.21.0->replicate) (2023.11.17)\n",
            "Collecting httpcore==1.* (from httpx<1,>=0.21.0->replicate)\n",
            "  Downloading httpcore-1.0.2-py3-none-any.whl (76 kB)\n",
            "\u001b[2K     \u001b[90m━━━━━━━━━━━━━━━━━━━━━━━━━━━━━━━━━━━━━━━━\u001b[0m \u001b[32m76.9/76.9 kB\u001b[0m \u001b[31m9.6 MB/s\u001b[0m eta \u001b[36m0:00:00\u001b[0m\n",
            "\u001b[?25hRequirement already satisfied: idna in /usr/local/lib/python3.10/dist-packages (from httpx<1,>=0.21.0->replicate) (3.6)\n",
            "Requirement already satisfied: sniffio in /usr/local/lib/python3.10/dist-packages (from httpx<1,>=0.21.0->replicate) (1.3.0)\n",
            "Collecting h11<0.15,>=0.13 (from httpcore==1.*->httpx<1,>=0.21.0->replicate)\n",
            "  Downloading h11-0.14.0-py3-none-any.whl (58 kB)\n",
            "\u001b[2K     \u001b[90m━━━━━━━━━━━━━━━━━━━━━━━━━━━━━━━━━━━━━━━━\u001b[0m \u001b[32m58.3/58.3 kB\u001b[0m \u001b[31m7.6 MB/s\u001b[0m eta \u001b[36m0:00:00\u001b[0m\n",
            "\u001b[?25hRequirement already satisfied: exceptiongroup in /usr/local/lib/python3.10/dist-packages (from anyio->httpx<1,>=0.21.0->replicate) (1.2.0)\n",
            "Installing collected packages: h11, httpcore, httpx, replicate\n",
            "Successfully installed h11-0.14.0 httpcore-1.0.2 httpx-0.25.2 replicate-0.21.0\n"
          ]
        }
      ],
      "source": [
        "# @title Install Replicate\n",
        "!pip install replicate"
      ]
    },
    {
      "cell_type": "markdown",
      "source": [
        "##2. Tokenization for the Replicate API is configured in this column. Using your Replicate account, you may receive the API token. To interact with the Replicate platform, your Colab notebook needs this token."
      ],
      "metadata": {
        "id": "sFTSpliVoGgA"
      }
    },
    {
      "cell_type": "code",
      "execution_count": null,
      "metadata": {
        "id": "cFmhr3PSf4G2"
      },
      "outputs": [],
      "source": [
        "API = \"r8_1xI4BIhssMx6uE5IgLmCw37pXGxkMxc1TlLur\"\n",
        "import os\n",
        "\n",
        "os.environ[\"REPLICATE_API_TOKEN\"] = API #find it here: https://replicate.com/signin?next=/account/api-tokens\n"
      ]
    },
    {
      "cell_type": "markdown",
      "source": [
        "##3.Using the Stable Diffusion model from Replicate, this code creates an image in response to the command \"Cake on the Table.\" It uses AI to explain how sophisticated generative models function in producing visual material and highlights the power of automatic image creation in response to preset cues.\n",
        " The Stable Diffusion model from Replicate is used in this code to create a picture based on the prompt \"Cake on the Table.\" Through the use of AI, it highlights the function of sophisticated generative models in producing visual material and highlights the potential of automated picture synthesis in response to certain cues.\n",
        "\n"
      ],
      "metadata": {
        "id": "99b2KkrToOPY"
      }
    },
    {
      "cell_type": "code",
      "execution_count": null,
      "metadata": {
        "colab": {
          "base_uri": "https://localhost:8080/"
        },
        "id": "0zz83wA6cqSF",
        "outputId": "002032d8-0ae5-4582-ece6-d191b82781e0"
      },
      "outputs": [
        {
          "output_type": "execute_result",
          "data": {
            "text/plain": [
              "['https://replicate.delivery/pbxt/leDhNlszGMwMNikrBbjInY3vXIGKYm4H0xY6MaL7m6igXKfRA/out-0.png']"
            ]
          },
          "metadata": {},
          "execution_count": 4
        }
      ],
      "source": [
        "# @title Generate Image\n",
        "prompt = \"Cake on the Table\"\n",
        "import replicate\n",
        "\n",
        "output = replicate.run(\n",
        "  \"stability-ai/stable-diffusion:27b93a2413e7f36cd83da926f3656280b2931564ff050bf9575f1fdf9bcd7478\",\n",
        "  input={\"prompt\":prompt}\n",
        ")\n",
        "\n",
        "output"
      ]
    },
    {
      "cell_type": "markdown",
      "source": [
        "##4. This cell uses the IPython Image class to display the generated image. The output variable that was received in the preceding cell is where the picture URL is found.\n",
        "\n",
        "This code uses the IPython display module to display the image that was created by the previous code.\n",
        "\n",
        "It is essential to the display of the AI-generated output, providing a concrete and easily comprehensible depiction of the model's answer to the prompt \"Cake on the Table\"."
      ],
      "metadata": {
        "id": "0HNTesaHoSYo"
      }
    },
    {
      "cell_type": "code",
      "execution_count": null,
      "metadata": {
        "colab": {
          "base_uri": "https://localhost:8080/",
          "height": 534
        },
        "id": "hwXEISnemCLj",
        "outputId": "fab0f02f-ce84-430a-f71f-1f85f2aceab5"
      },
      "outputs": [
        {
          "output_type": "execute_result",
          "data": {
            "text/html": [
              "<img src=\"https://replicate.delivery/pbxt/leDhNlszGMwMNikrBbjInY3vXIGKYm4H0xY6MaL7m6igXKfRA/out-0.png\"/>"
            ],
            "text/plain": [
              "<IPython.core.display.Image object>"
            ]
          },
          "metadata": {},
          "execution_count": 5
        }
      ],
      "source": [
        "\n",
        "from IPython.display import Image\n",
        "output_image = output\n",
        "Image(url=output_image[0])"
      ]
    },
    {
      "cell_type": "markdown",
      "source": [
        "##5. This code generates a GIF animation, transitioning from \"Cake on the Table\" to \"cutting the cake,\" showcasing dynamic content creation capabilities.\n",
        "\n",
        "\n",
        "With the help of Replicate's stable diffusion model, this code controls the creation of an animated GIF. With a smooth transition from the first request, \"Cake on the Table,\" to \"cutting the cake,\" it demonstrates how the AI can provide engaging, dynamic material using clever, automated methods."
      ],
      "metadata": {
        "id": "tlvYwhh7oVq_"
      }
    },
    {
      "cell_type": "code",
      "execution_count": null,
      "metadata": {
        "colab": {
          "base_uri": "https://localhost:8080/"
        },
        "id": "Misa5E4QiWNZ",
        "outputId": "72b7f12f-c25a-4a10-e7b7-0618cf8dbb82"
      },
      "outputs": [
        {
          "output_type": "execute_result",
          "data": {
            "text/plain": [
              "<generator object Prediction.output_iterator at 0x7c61d4084e40>"
            ]
          },
          "metadata": {},
          "execution_count": 6
        }
      ],
      "source": [
        "# @title Video/gif/animation/Generation\n",
        "import replicate\n",
        "\n",
        "output = replicate.run(\n",
        "    \"andreasjansson/stable-diffusion-animation:ca1f5e306e5721e19c473e0d094e6603f0456fe759c10715fcd6c1b79242d4a5\",\n",
        "    input={\n",
        "        \"prompt_start\": \"Cake on the Table\",\n",
        "        \"prompt_end\": \"cutting the cake\",\n",
        "        \"output_format\": \"gif\",\n",
        "        \"gif_ping_pong\": True\n",
        "    }\n",
        ")\n",
        "\n",
        "output\n"
      ]
    },
    {
      "cell_type": "markdown",
      "source": [
        "## 6. This code iterates through the output, providing links to Replicate's documentation, aiding detailed exploration of generated video information."
      ],
      "metadata": {
        "id": "kNNm0SY7oY1P"
      }
    },
    {
      "cell_type": "code",
      "execution_count": null,
      "metadata": {
        "colab": {
          "base_uri": "https://localhost:8080/"
        },
        "id": "BB0LZJTyjA7Z",
        "outputId": "d172af43-6e66-43ab-b5ec-251f8a6e75da"
      },
      "outputs": [
        {
          "output_type": "stream",
          "name": "stdout",
          "text": [
            "https://replicate.delivery/pbxt/9E0ytJjRrHaMFhHY1ABL6BPQXKt5F92iOyxpCdts9Cd9MlfIA/video.gif\n"
          ]
        }
      ],
      "source": [
        "# @title generate video\n",
        "for item in output:\n",
        "     #https://replicate.com/andreasjansson/stable-diffusion-animation/versions/ca1f5e306e5721e19c473e0d094e6603f0456fe759c10715fcd6c1b79242d4a5/api#output-schema\n",
        "    print(item)"
      ]
    },
    {
      "cell_type": "markdown",
      "source": [
        "## 7. This code facilitates exploration of Replicate's documentation, offering links for in-depth understanding of generated video information."
      ],
      "metadata": {
        "id": "w6fZwjtKoggI"
      }
    },
    {
      "cell_type": "code",
      "execution_count": null,
      "metadata": {
        "id": "fuPgsixhkxM4"
      },
      "outputs": [],
      "source": [
        "# @title get the video on colab\n",
        "gif_url= item[0:len(item)]"
      ]
    },
    {
      "cell_type": "markdown",
      "source": [
        " ## 8. This cell retrieves the created video, opens the saved GIF with the PIL library, saves it locally as \"gif_output.gif,\" and shows it in the notebook. An error message is given if the GIF cannot be retrieved."
      ],
      "metadata": {
        "id": "Hmz6QKmwUmw6"
      }
    },
    {
      "cell_type": "code",
      "execution_count": null,
      "metadata": {
        "colab": {
          "base_uri": "https://localhost:8080/",
          "height": 534
        },
        "id": "6VPPvsE3km93",
        "outputId": "15ecb1d2-e1d1-428b-ef0f-65cf100bd59f"
      },
      "outputs": [
        {
          "output_type": "display_data",
          "data": {
            "text/html": [
              "<img src=\"https://replicate.delivery/pbxt/9E0ytJjRrHaMFhHY1ABL6BPQXKt5F92iOyxpCdts9Cd9MlfIA/video.gif\"/>"
            ],
            "text/plain": [
              "<IPython.core.display.Image object>"
            ]
          },
          "metadata": {}
        }
      ],
      "source": [
        "# @title Show the video\n",
        "import requests\n",
        "from IPython.display import display, Image\n",
        "from PIL import Image as PILImage\n",
        "from io import BytesIO\n",
        "response = requests.get(gif_url)\n",
        "if response.status_code == 200:\n",
        "    # Display the GIF in the notebook\n",
        "    display(Image(url=gif_url))\n",
        "\n",
        "    # Save the GIF in the Colab environment\n",
        "    with open(\"gif_output.gif\", \"wb\") as f:\n",
        "        f.write(response.content)\n",
        "\n",
        "    # Show a saved GIF using PIL\n",
        "    saved_gif = PILImage.open(\"gif_output.gif\")\n",
        "    saved_gif.show()\n",
        "else:\n",
        "    print(\"Failed to fetch GIF\")\n"
      ]
    },
    {
      "cell_type": "markdown",
      "source": [
        "# **REFERENCES**\n",
        "\n",
        "* Replicate. https://replicate.com/account/api-tokens\n",
        "\n",
        "\n",
        "\n",
        "\n",
        "* Turna GitHub - turna1/GenAI: https://github.com/turna1/GenAI\n",
        "\n",
        "\n",
        "* Applications for Python. Python.org. https://www.python.org/about/apps/\n",
        "\n"
      ],
      "metadata": {
        "id": "LIuFyGgwb6-o"
      }
    },
    {
      "cell_type": "markdown",
      "source": [
        "# **VIDEO PRESENTATION LINK 
            https://drive.google.com/file/d/1pxVJeuka5lfX0TKfEGllovGtg3KUps59/view?usp=drivesdk**"
      ],
      "metadata": {
        "id": "1h53lKNV6U23"
      }
    },
    {
      "cell_type": "markdown",
      "source": [
        "# Thank You\n",
        "---"
      ],
      "metadata": {
        "id": "LX6Dmm0EV0DT"
      }
    }
  ],
  "metadata": {
    "colab": {
      "provenance": [],
      "include_colab_link": true
    },
    "kernelspec": {
      "display_name": "Python 3",
      "name": "python3"
    },
    "language_info": {
      "name": "python"
    }
  },
  "nbformat": 4,
  "nbformat_minor": 0
}
